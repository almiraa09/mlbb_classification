{
 "cells": [
  {
   "cell_type": "code",
   "execution_count": 1,
   "id": "5d23abab-7c67-474b-85e0-8b8d22ab3598",
   "metadata": {},
   "outputs": [
    {
     "name": "stdout",
     "output_type": "stream",
     "text": [
      "hai\n"
     ]
    }
   ],
   "source": [
    "print(\"hai\")\n"
   ]
  },
  {
   "cell_type": "markdown",
   "id": "d9ec5b8a-7f7b-4ddb-b542-368105e1dfa0",
   "metadata": {},
   "source": [
    "# Machine Learning Classification\n"
   ]
  },
  {
   "cell_type": "code",
   "execution_count": 3,
   "id": "2a2a09d0-6369-4b07-b4d4-af5b765bac1b",
   "metadata": {},
   "outputs": [
    {
     "data": {
      "text/html": [
       "<div>\n",
       "<style scoped>\n",
       "    .dataframe tbody tr th:only-of-type {\n",
       "        vertical-align: middle;\n",
       "    }\n",
       "\n",
       "    .dataframe tbody tr th {\n",
       "        vertical-align: top;\n",
       "    }\n",
       "\n",
       "    .dataframe thead th {\n",
       "        text-align: right;\n",
       "    }\n",
       "</style>\n",
       "<table border=\"1\" class=\"dataframe\">\n",
       "  <thead>\n",
       "    <tr style=\"text-align: right;\">\n",
       "      <th></th>\n",
       "      <th>kill</th>\n",
       "      <th>assist</th>\n",
       "      <th>death</th>\n",
       "      <th>turret</th>\n",
       "      <th>role</th>\n",
       "    </tr>\n",
       "  </thead>\n",
       "  <tbody>\n",
       "    <tr>\n",
       "      <th>0</th>\n",
       "      <td>10</td>\n",
       "      <td>2</td>\n",
       "      <td>3</td>\n",
       "      <td>2</td>\n",
       "      <td>penyerang</td>\n",
       "    </tr>\n",
       "    <tr>\n",
       "      <th>1</th>\n",
       "      <td>3</td>\n",
       "      <td>9</td>\n",
       "      <td>5</td>\n",
       "      <td>0</td>\n",
       "      <td>bertahan</td>\n",
       "    </tr>\n",
       "    <tr>\n",
       "      <th>2</th>\n",
       "      <td>8</td>\n",
       "      <td>4</td>\n",
       "      <td>2</td>\n",
       "      <td>1</td>\n",
       "      <td>penyerang</td>\n",
       "    </tr>\n",
       "    <tr>\n",
       "      <th>3</th>\n",
       "      <td>2</td>\n",
       "      <td>11</td>\n",
       "      <td>6</td>\n",
       "      <td>0</td>\n",
       "      <td>bertahan</td>\n",
       "    </tr>\n",
       "    <tr>\n",
       "      <th>4</th>\n",
       "      <td>12</td>\n",
       "      <td>3</td>\n",
       "      <td>2</td>\n",
       "      <td>3</td>\n",
       "      <td>penyerang</td>\n",
       "    </tr>\n",
       "    <tr>\n",
       "      <th>5</th>\n",
       "      <td>4</td>\n",
       "      <td>10</td>\n",
       "      <td>7</td>\n",
       "      <td>0</td>\n",
       "      <td>penyerang</td>\n",
       "    </tr>\n",
       "    <tr>\n",
       "      <th>6</th>\n",
       "      <td>9</td>\n",
       "      <td>5</td>\n",
       "      <td>2</td>\n",
       "      <td>2</td>\n",
       "      <td>penyerang</td>\n",
       "    </tr>\n",
       "    <tr>\n",
       "      <th>7</th>\n",
       "      <td>1</td>\n",
       "      <td>13</td>\n",
       "      <td>6</td>\n",
       "      <td>0</td>\n",
       "      <td>bertahan</td>\n",
       "    </tr>\n",
       "    <tr>\n",
       "      <th>8</th>\n",
       "      <td>11</td>\n",
       "      <td>4</td>\n",
       "      <td>3</td>\n",
       "      <td>2</td>\n",
       "      <td>penyerang</td>\n",
       "    </tr>\n",
       "    <tr>\n",
       "      <th>9</th>\n",
       "      <td>2</td>\n",
       "      <td>12</td>\n",
       "      <td>5</td>\n",
       "      <td>0</td>\n",
       "      <td>bertahan</td>\n",
       "    </tr>\n",
       "  </tbody>\n",
       "</table>\n",
       "</div>"
      ],
      "text/plain": [
       "   kill  assist  death  turret       role\n",
       "0    10       2      3       2  penyerang\n",
       "1     3       9      5       0   bertahan\n",
       "2     8       4      2       1  penyerang\n",
       "3     2      11      6       0   bertahan\n",
       "4    12       3      2       3  penyerang\n",
       "5     4      10      7       0  penyerang\n",
       "6     9       5      2       2  penyerang\n",
       "7     1      13      6       0   bertahan\n",
       "8    11       4      3       2  penyerang\n",
       "9     2      12      5       0   bertahan"
      ]
     },
     "execution_count": 3,
     "metadata": {},
     "output_type": "execute_result"
    }
   ],
   "source": [
    "# lakukan proses pemanggilan dataset menggunakan pandas\n",
    "# import pandas terlebih fahulu\n",
    "\n",
    "import pandas as pd\n",
    "df = pd.read_csv(\"dataset.csv\")\n",
    "\n",
    "df\n"
   ]
  },
  {
   "cell_type": "code",
   "execution_count": 4,
   "id": "dce302ec-1797-4bc9-bc49-2d2cf5f29eb4",
   "metadata": {},
   "outputs": [
    {
     "data": {
      "text/html": [
       "<div>\n",
       "<style scoped>\n",
       "    .dataframe tbody tr th:only-of-type {\n",
       "        vertical-align: middle;\n",
       "    }\n",
       "\n",
       "    .dataframe tbody tr th {\n",
       "        vertical-align: top;\n",
       "    }\n",
       "\n",
       "    .dataframe thead th {\n",
       "        text-align: right;\n",
       "    }\n",
       "</style>\n",
       "<table border=\"1\" class=\"dataframe\">\n",
       "  <thead>\n",
       "    <tr style=\"text-align: right;\">\n",
       "      <th></th>\n",
       "      <th>kill</th>\n",
       "      <th>assist</th>\n",
       "      <th>death</th>\n",
       "      <th>turret</th>\n",
       "      <th>role</th>\n",
       "    </tr>\n",
       "  </thead>\n",
       "  <tbody>\n",
       "    <tr>\n",
       "      <th>0</th>\n",
       "      <td>10</td>\n",
       "      <td>2</td>\n",
       "      <td>3</td>\n",
       "      <td>2</td>\n",
       "      <td>penyerang</td>\n",
       "    </tr>\n",
       "    <tr>\n",
       "      <th>1</th>\n",
       "      <td>3</td>\n",
       "      <td>9</td>\n",
       "      <td>5</td>\n",
       "      <td>0</td>\n",
       "      <td>bertahan</td>\n",
       "    </tr>\n",
       "    <tr>\n",
       "      <th>2</th>\n",
       "      <td>8</td>\n",
       "      <td>4</td>\n",
       "      <td>2</td>\n",
       "      <td>1</td>\n",
       "      <td>penyerang</td>\n",
       "    </tr>\n",
       "    <tr>\n",
       "      <th>3</th>\n",
       "      <td>2</td>\n",
       "      <td>11</td>\n",
       "      <td>6</td>\n",
       "      <td>0</td>\n",
       "      <td>bertahan</td>\n",
       "    </tr>\n",
       "    <tr>\n",
       "      <th>4</th>\n",
       "      <td>12</td>\n",
       "      <td>3</td>\n",
       "      <td>2</td>\n",
       "      <td>3</td>\n",
       "      <td>penyerang</td>\n",
       "    </tr>\n",
       "  </tbody>\n",
       "</table>\n",
       "</div>"
      ],
      "text/plain": [
       "   kill  assist  death  turret       role\n",
       "0    10       2      3       2  penyerang\n",
       "1     3       9      5       0   bertahan\n",
       "2     8       4      2       1  penyerang\n",
       "3     2      11      6       0   bertahan\n",
       "4    12       3      2       3  penyerang"
      ]
     },
     "execution_count": 4,
     "metadata": {},
     "output_type": "execute_result"
    }
   ],
   "source": [
    "# menampilkam data paling atas \n",
    "#default head adalah 5\n",
    "#jika ingin menampilkan 3 baris pertama tingga tulis 3 didalam kurung\n",
    "df.head()"
   ]
  },
  {
   "cell_type": "code",
   "execution_count": 6,
   "id": "499fbab0-2fcb-4b81-8f0b-120153e9fea0",
   "metadata": {},
   "outputs": [
    {
     "data": {
      "text/html": [
       "<div>\n",
       "<style scoped>\n",
       "    .dataframe tbody tr th:only-of-type {\n",
       "        vertical-align: middle;\n",
       "    }\n",
       "\n",
       "    .dataframe tbody tr th {\n",
       "        vertical-align: top;\n",
       "    }\n",
       "\n",
       "    .dataframe thead th {\n",
       "        text-align: right;\n",
       "    }\n",
       "</style>\n",
       "<table border=\"1\" class=\"dataframe\">\n",
       "  <thead>\n",
       "    <tr style=\"text-align: right;\">\n",
       "      <th></th>\n",
       "      <th>kill</th>\n",
       "      <th>assist</th>\n",
       "      <th>death</th>\n",
       "      <th>turret</th>\n",
       "      <th>role</th>\n",
       "    </tr>\n",
       "  </thead>\n",
       "  <tbody>\n",
       "    <tr>\n",
       "      <th>7</th>\n",
       "      <td>1</td>\n",
       "      <td>13</td>\n",
       "      <td>6</td>\n",
       "      <td>0</td>\n",
       "      <td>bertahan</td>\n",
       "    </tr>\n",
       "    <tr>\n",
       "      <th>8</th>\n",
       "      <td>11</td>\n",
       "      <td>4</td>\n",
       "      <td>3</td>\n",
       "      <td>2</td>\n",
       "      <td>penyerang</td>\n",
       "    </tr>\n",
       "    <tr>\n",
       "      <th>9</th>\n",
       "      <td>2</td>\n",
       "      <td>12</td>\n",
       "      <td>5</td>\n",
       "      <td>0</td>\n",
       "      <td>bertahan</td>\n",
       "    </tr>\n",
       "  </tbody>\n",
       "</table>\n",
       "</div>"
      ],
      "text/plain": [
       "   kill  assist  death  turret       role\n",
       "7     1      13      6       0   bertahan\n",
       "8    11       4      3       2  penyerang\n",
       "9     2      12      5       0   bertahan"
      ]
     },
     "execution_count": 6,
     "metadata": {},
     "output_type": "execute_result"
    }
   ],
   "source": [
    "# menampilkandata terbawah\n",
    "# default tail adalah 5\n",
    "df.tail(3)\n"
   ]
  },
  {
   "cell_type": "code",
   "execution_count": 10,
   "id": "197565f4-c9eb-472f-b8cb-8bf4baf498db",
   "metadata": {},
   "outputs": [
    {
     "name": "stdout",
     "output_type": "stream",
     "text": [
      "<class 'pandas.core.frame.DataFrame'>\n",
      "RangeIndex: 10 entries, 0 to 9\n",
      "Data columns (total 5 columns):\n",
      " #   Column  Non-Null Count  Dtype \n",
      "---  ------  --------------  ----- \n",
      " 0   kill    10 non-null     int64 \n",
      " 1   assist  10 non-null     int64 \n",
      " 2   death   10 non-null     int64 \n",
      " 3   turret  10 non-null     int64 \n",
      " 4   role    10 non-null     object\n",
      "dtypes: int64(4), object(1)\n",
      "memory usage: 532.0+ bytes\n"
     ]
    }
   ],
   "source": [
    "#melihat struktur data\n",
    "df.info()"
   ]
  },
  {
   "cell_type": "code",
   "execution_count": 9,
   "id": "5f99776e-60f7-4d4b-9675-00b2dd467aa3",
   "metadata": {},
   "outputs": [
    {
     "data": {
      "text/html": [
       "<div>\n",
       "<style scoped>\n",
       "    .dataframe tbody tr th:only-of-type {\n",
       "        vertical-align: middle;\n",
       "    }\n",
       "\n",
       "    .dataframe tbody tr th {\n",
       "        vertical-align: top;\n",
       "    }\n",
       "\n",
       "    .dataframe thead th {\n",
       "        text-align: right;\n",
       "    }\n",
       "</style>\n",
       "<table border=\"1\" class=\"dataframe\">\n",
       "  <thead>\n",
       "    <tr style=\"text-align: right;\">\n",
       "      <th></th>\n",
       "      <th>kill</th>\n",
       "      <th>assist</th>\n",
       "      <th>death</th>\n",
       "      <th>turret</th>\n",
       "    </tr>\n",
       "  </thead>\n",
       "  <tbody>\n",
       "    <tr>\n",
       "      <th>count</th>\n",
       "      <td>10.000000</td>\n",
       "      <td>10.000000</td>\n",
       "      <td>10.000000</td>\n",
       "      <td>10.000000</td>\n",
       "    </tr>\n",
       "    <tr>\n",
       "      <th>mean</th>\n",
       "      <td>6.200000</td>\n",
       "      <td>7.300000</td>\n",
       "      <td>4.100000</td>\n",
       "      <td>1.000000</td>\n",
       "    </tr>\n",
       "    <tr>\n",
       "      <th>std</th>\n",
       "      <td>4.211096</td>\n",
       "      <td>4.110961</td>\n",
       "      <td>1.911951</td>\n",
       "      <td>1.154701</td>\n",
       "    </tr>\n",
       "    <tr>\n",
       "      <th>min</th>\n",
       "      <td>1.000000</td>\n",
       "      <td>2.000000</td>\n",
       "      <td>2.000000</td>\n",
       "      <td>0.000000</td>\n",
       "    </tr>\n",
       "    <tr>\n",
       "      <th>25%</th>\n",
       "      <td>2.250000</td>\n",
       "      <td>4.000000</td>\n",
       "      <td>2.250000</td>\n",
       "      <td>0.000000</td>\n",
       "    </tr>\n",
       "    <tr>\n",
       "      <th>50%</th>\n",
       "      <td>6.000000</td>\n",
       "      <td>7.000000</td>\n",
       "      <td>4.000000</td>\n",
       "      <td>0.500000</td>\n",
       "    </tr>\n",
       "    <tr>\n",
       "      <th>75%</th>\n",
       "      <td>9.750000</td>\n",
       "      <td>10.750000</td>\n",
       "      <td>5.750000</td>\n",
       "      <td>2.000000</td>\n",
       "    </tr>\n",
       "    <tr>\n",
       "      <th>max</th>\n",
       "      <td>12.000000</td>\n",
       "      <td>13.000000</td>\n",
       "      <td>7.000000</td>\n",
       "      <td>3.000000</td>\n",
       "    </tr>\n",
       "  </tbody>\n",
       "</table>\n",
       "</div>"
      ],
      "text/plain": [
       "            kill     assist      death     turret\n",
       "count  10.000000  10.000000  10.000000  10.000000\n",
       "mean    6.200000   7.300000   4.100000   1.000000\n",
       "std     4.211096   4.110961   1.911951   1.154701\n",
       "min     1.000000   2.000000   2.000000   0.000000\n",
       "25%     2.250000   4.000000   2.250000   0.000000\n",
       "50%     6.000000   7.000000   4.000000   0.500000\n",
       "75%     9.750000  10.750000   5.750000   2.000000\n",
       "max    12.000000  13.000000   7.000000   3.000000"
      ]
     },
     "execution_count": 9,
     "metadata": {},
     "output_type": "execute_result"
    }
   ],
   "source": [
    "#menampilkan informasi statistika\n",
    "df.describe()"
   ]
  },
  {
   "cell_type": "code",
   "execution_count": 12,
   "id": "85e26a67-51c6-4085-a671-addb61cf07fa",
   "metadata": {},
   "outputs": [
    {
     "data": {
      "text/plain": [
       "0    penyerang\n",
       "1     bertahan\n",
       "2    penyerang\n",
       "3     bertahan\n",
       "4    penyerang\n",
       "5    penyerang\n",
       "6    penyerang\n",
       "7     bertahan\n",
       "8    penyerang\n",
       "9     bertahan\n",
       "Name: role, dtype: object"
      ]
     },
     "execution_count": 12,
     "metadata": {},
     "output_type": "execute_result"
    }
   ],
   "source": [
    "#menampilakan semua baris dalam satu kolom role\n",
    "df['role']"
   ]
  },
  {
   "cell_type": "code",
   "execution_count": 13,
   "id": "ea47ae44-59f9-4bfe-8838-5084dc06f26d",
   "metadata": {},
   "outputs": [
    {
     "data": {
      "text/plain": [
       "role\n",
       "penyerang    6\n",
       "bertahan     3\n",
       " bertahan    1\n",
       "Name: count, dtype: int64"
      ]
     },
     "execution_count": 13,
     "metadata": {},
     "output_type": "execute_result"
    }
   ],
   "source": [
    "# menampilkan jumlah maisng masing data di kolom role\n",
    "df['role'].value_counts()"
   ]
  },
  {
   "cell_type": "code",
   "execution_count": 19,
   "id": "a6b806a1-eb7d-4bb5-a733-1395634d5ff1",
   "metadata": {},
   "outputs": [
    {
     "data": {
      "image/png": "[encoded data removed]",
      "text/plain": [
       "<Figure size 600x500 with 1 Axes>"
      ]
     },
     "metadata": {},
     "output_type": "display_data"
    }
   ],
   "source": [
    "# visualisasi dta menggunakan matplotlib\n",
    "\n",
    "import matplotlib.pyplot as plt\n",
    "\n",
    "penyerang = df[df[\"role\"]==\"penyerang\"]\n",
    "bertahan = df[df[\"role\"]==\"bertahan\"]\n",
    "\n",
    "plt.figure(figsize=(6,5))\n",
    "plt.scatter(penyerang[\"kill\"],penyerang[\"assist\"],color=\"red\",s=100,alpha=0.7,label=\"penyerang\")\n",
    "plt.scatter(bertahan[\"kill\"],bertahan[\"assist\"],color=\"blue\",s=100,alpha=0.7,label=\"bertahan\")\n",
    "plt.xlabel(\"Kill\")\n",
    "plt.ylabel(\"Assist\")\n",
    "plt.title(\"MLBB Kill vs Assist\")\n",
    "plt.legend()\n",
    "plt.grid(True,linestyle=\"--\",alpha=0.5)\n",
    "plt.show()"
   ]
  },
  {
   "cell_type": "code",
   "execution_count": 22,
   "id": "561c448c-03b6-412f-b0b1-b1e2dc542854",
   "metadata": {},
   "outputs": [
    {
     "name": "stdout",
     "output_type": "stream",
     "text": [
      "Accuracy : 0.5\n"
     ]
    }
   ],
   "source": [
    "#membuat model machine learning\n",
    "from sklearn.linear_model import LogisticRegression\n",
    "from sklearn.model_selection import train_test_split\n",
    "from sklearn.metrics import accuracy_score\n",
    "\n",
    "X = df[[\"kill\",\"assist\",\"death\",\"turret\"]]\n",
    "y = df[\"role\"]\n",
    "\n",
    "X_train, X_test, y_train, y_test = train_test_split(X, y, test_size=0.2, random_state=42)\n",
    "\n",
    "model = LogisticRegression()\n",
    "model.fit(X_train,y_train)\n",
    "\n",
    "y_pred = model.predict(X_test)\n",
    "\n",
    "print(\"Accuracy :\", accuracy_score(y_test, y_pred))\n",
    "\n",
    "#yg benr 1 tapi punyaku 0.5"
   ]
  },
  {
   "cell_type": "code",
   "execution_count": 25,
   "id": "16c0ff70-0c49-44d7-8696-bfefb0e7b8fc",
   "metadata": {},
   "outputs": [
    {
     "data": {
      "text/plain": [
       "array(['penyerang'], dtype=object)"
      ]
     },
     "execution_count": 25,
     "metadata": {},
     "output_type": "execute_result"
    }
   ],
   "source": [
    "data_baru = pd.DataFrame([[1,0,9,0]],\n",
    "                columns=[\"kill\",\"assist\",\"death\",\"turret\"])\n",
    "model.predict(data_baru)"
   ]
  },
  {
   "cell_type": "code",
   "execution_count": 29,
   "id": "31ce9865-7656-41e6-97cb-9602a3edde7c",
   "metadata": {},
   "outputs": [
    {
     "data": {
      "text/plain": [
       "'penyerang'"
      ]
     },
     "execution_count": 29,
     "metadata": {},
     "output_type": "execute_result"
    }
   ],
   "source": [
    "data_lain = pd.DataFrame([[1,1,4,5]],\n",
    "                         columns=[\"kill\",\"assist\",\"death\",\"turret\"])\n",
    "model.predict(data_lain)[0]"
   ]
  },
  {
   "cell_type": "code",
   "execution_count": 30,
   "id": "43ef4ff8-350c-4aaa-9cfc-f2042da679d3",
   "metadata": {},
   "outputs": [
    {
     "data": {
      "text/plain": [
       "['model_mlbb.joblib']"
      ]
     },
     "execution_count": 30,
     "metadata": {},
     "output_type": "execute_result"
    }
   ],
   "source": [
    "#menyimpan model machine laaerning\n",
    "# panggil library joblib\n",
    "import joblib\n",
    "\n",
    "#simpan model hasil latihan dengna nama \"model_mlbb.joblib\"\n",
    "joblib.dump(model,\"model_mlbb.joblib\")"
   ]
  },
  {
   "cell_type": "code",
   "execution_count": null,
   "id": "addc4bdd-fb2e-4cb0-8060-e9f92c9087e7",
   "metadata": {},
   "outputs": [],
   "source": [
    "import joblib \n",
    "\n",
    "model_tersimpan = joblib.load(\"model_mlbb.joblib\")\n",
    "model_lain = pd.DataFrame([[4,4,2,2]], columns=[\"kill\",\"assist\",\"death\",\"turret\"])\n",
    "#blm slese\n",
    "model_tersimpan.predict"
   ]
  }
 ],
 "metadata": {
  "kernelspec": {
   "display_name": "Python 3 (ipykernel)",
   "language": "python",
   "name": "python3"
  },
  "language_info": {
   "codemirror_mode": {
    "name": "ipython",
    "version": 3
   },
   "file_extension": ".py",
   "mimetype": "text/x-python",
   "name": "python",
   "nbconvert_exporter": "python",
   "pygments_lexer": "ipython3",
   "version": "3.13.5"
  }
 },
 "nbformat": 4,
 "nbformat_minor": 5
}
