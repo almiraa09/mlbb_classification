{
 "cells": [
  {
   "cell_type": "code",
   "execution_count": 2,
   "id": "9f9c8461-25d6-4ee8-8532-7ce6027ed5f0",
   "metadata": {},
   "outputs": [
    {
     "name": "stdin",
     "output_type": "stream",
     "text": [
      "masukan angka 1:  10\n",
      "masukan angka 2:  3\n"
     ]
    },
    {
     "name": "stdout",
     "output_type": "stream",
     "text": [
      "hasil penjumlahannya adalah 13\n",
      "hasil pengurangannya adalah 7\n",
      "hasil perkaliannya adalah 30\n",
      "hasil pembagiannya adalah 3.3333333333333335\n",
      "hasil pembagian bulatnya adalah 3\n",
      "hasil pangkatnya adalah 1000\n",
      "sisa hasil baginya adalah 1\n"
     ]
    }
   ],
   "source": [
    "angka1 = int(input(\"masukan angka 1: \"))\n",
    "angka2 = int(input(\"masukan angka 2: \"))\n",
    "print (f\"hasil penjumlahannya adalah {angka1 + angka2}\")\n",
    "print (f\"hasil pengurangannya adalah {angka1 - angka2}\")\n",
    "print (f\"hasil perkaliannya adalah {angka1 * angka2}\")\n",
    "print (f\"hasil pembagiannya adalah {angka1 / angka2}\")\n",
    "print (f\"hasil pembagian bulatnya adalah {angka1 // angka2}\")\n",
    "print (f\"hasil pangkatnya adalah {angka1 ** angka2}\")\n",
    "print (f\"sisa hasil baginya adalah {angka1 % angka2}\")"
   ]
  },
  {
   "cell_type": "code",
   "execution_count": null,
   "id": "7f610d57-6789-4fa7-93d5-3be829ba9ef7",
   "metadata": {},
   "outputs": [],
   "source": []
  }
 ],
 "metadata": {
  "kernelspec": {
   "display_name": "Python 3 (ipykernel)",
   "language": "python",
   "name": "python3"
  },
  "language_info": {
   "codemirror_mode": {
    "name": "ipython",
    "version": 3
   },
   "file_extension": ".py",
   "mimetype": "text/x-python",
   "name": "python",
   "nbconvert_exporter": "python",
   "pygments_lexer": "ipython3",
   "version": "3.13.5"
  }
 },
 "nbformat": 4,
 "nbformat_minor": 5
}
